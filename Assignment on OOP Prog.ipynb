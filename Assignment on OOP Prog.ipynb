{
 "cells": [
  {
   "cell_type": "markdown",
   "id": "d854f8c5",
   "metadata": {},
   "source": [
    "# 1.Create a class named Person, use the init() function to assign values for name and age:"
   ]
  },
  {
   "cell_type": "code",
   "execution_count": 21,
   "id": "c90101dc",
   "metadata": {},
   "outputs": [
    {
     "name": "stdout",
     "output_type": "stream",
     "text": [
      "lizzy\n",
      "19\n"
     ]
    }
   ],
   "source": [
    "class Person:\n",
    "  def __init__(self, name, age):\n",
    "    self.name = name\n",
    "    self.age = age\n",
    "\n",
    "x1 = Person(\"lizzy\", 19)\n",
    "\n",
    "print(x1.name)\n",
    "print(x1.age)"
   ]
  },
  {
   "cell_type": "markdown",
   "id": "37a5d043",
   "metadata": {},
   "source": [
    "# 2.Create clock class that containt Hr min sec. Accept the value and display it."
   ]
  },
  {
   "cell_type": "code",
   "execution_count": 20,
   "id": "8c04e2fa",
   "metadata": {},
   "outputs": [
    {
     "name": "stdout",
     "output_type": "stream",
     "text": [
      "Enter the value of n=34\n",
      "0:00:34\n"
     ]
    }
   ],
   "source": [
    "import datetime\n",
    "\n",
    "def convert(n):\n",
    "    return str(datetime.timedelta(seconds = n))\n",
    " \n",
    "n = int(input(\"Enter the value of n=\"))\n",
    "print(convert(n))"
   ]
  }
 ],
 "metadata": {
  "kernelspec": {
   "display_name": "Python 3 (ipykernel)",
   "language": "python",
   "name": "python3"
  },
  "language_info": {
   "codemirror_mode": {
    "name": "ipython",
    "version": 3
   },
   "file_extension": ".py",
   "mimetype": "text/x-python",
   "name": "python",
   "nbconvert_exporter": "python",
   "pygments_lexer": "ipython3",
   "version": "3.9.7"
  }
 },
 "nbformat": 4,
 "nbformat_minor": 5
}
